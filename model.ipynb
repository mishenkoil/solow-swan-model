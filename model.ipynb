{
  "nbformat": 4,
  "nbformat_minor": 0,
  "metadata": {
    "kernelspec": {
      "display_name": "Python 3",
      "language": "python",
      "name": "python3"
    },
    "language_info": {
      "codemirror_mode": {
        "name": "ipython",
        "version": 3
      },
      "file_extension": ".py",
      "mimetype": "text/x-python",
      "name": "python",
      "nbconvert_exporter": "python",
      "pygments_lexer": "ipython3",
      "version": "3.7.4"
    },
    "colab": {
      "name": "model.ipynb",
      "provenance": [],
      "collapsed_sections": []
    }
  },
  "cells": [
    {
      "cell_type": "markdown",
      "metadata": {
        "id": "EzEgrYC8UWhK"
      },
      "source": [
        "#Модель Солоу"
      ]
    },
    {
      "cell_type": "markdown",
      "metadata": {
        "id": "Ed4sb8aTL4bZ"
      },
      "source": [
        "$\\Delta K = sY_t − (n + g + δ)K_t$ - Модель Солоу.\r\n",
        "\r\n",
        "Собственно модель Солоу пытается объяснить динамику изменения капитала в промежуток времени $\\Delta t$, в зависимости от уровня инвестиций и существующего капитала. Интерпретировать ее можно достаточно просто. Капитал изменяется на величину инвестиций $sY_t$ с вычетом затрат на поддержание работоспособности существующего капитала $(n + g + δ)K_t$. Рассмотрим подробнее величину инвестиций $sY_t$. Здесь за $Y_t$ обозначают суммарное производство. Заметим, что эта виличина зависит от $K$, $L$, $E$, т.е $Y_t=F(K, L, E)$.  У этой функции есть важное свойство - уменьшающийся предельный продукт, т.е со временем рост должен замедлятся. Если эту величину мы умножим на $s$ - долю общего числа сбережений американских домохозяйств, то получим величину инвестиций. Да, число инвестиций $!=$ числу сбережений, но в контексте данной модели этим можно пренебречь. Теперь рассмотри затраты на поддержание работоспособности существующего капитала. Очевидно что данная величина зависит от $K_t$ (капитал в момент времени $t$) и от некоторых коэффициентов: \r\n",
        "\r\n",
        "$n$ - константа равная темпу роста населения\r\n",
        "\r\n",
        "$\\delta$ - коэффициент выбытия или износа капитала\r\n",
        "\r\n",
        "$s$ - доля общего числа сбережений американских домохозяйств\r\n",
        "\r\n",
        "$g$ - константа равная темпу роста технологического прогресса"
      ]
    },
    {
      "cell_type": "code",
      "metadata": {
        "id": "hi6EMzkyW8aP"
      },
      "source": [
        "import numpy as np\n",
        "import pandas as pd\n",
        "import matplotlib.pyplot as plt\n",
        "import math\n",
        "%matplotlib inline"
      ],
      "execution_count": null,
      "outputs": []
    },
    {
      "cell_type": "markdown",
      "metadata": {
        "id": "6zE2WlFZB2CM"
      },
      "source": [
        "**Как мы получили E?**\r\n",
        "\r\n",
        "Вообще достаточно сложно численно выразить параметр E(efficiency of labor). И для его вычисления мы решили обратиться к производственной функции Кобба-Дугласа, которая удивительным образом выражает зависимость Y(Real GDP(ВВП)) от K(Real Fixed Capital), L(Labor Force), E(Efficiency of labor). Сама функция имеет вид $Y = F(L, K) = E*L^{1 - a} * K ^a$, где $a$ - константа и часто равняется 1/3 (данная константа является спорной частью модели, т.к ни Кобб, ни Дуглас не предоставили теоретических обоснований постоянства коэффициента $a$ \r\n",
        "(https://ru.wikipedia.org/wiki/%D0%A4%D1%83%D0%BD%D0%BA%D1%86%D0%B8%D1%8F_%D0%9A%D0%BE%D0%B1%D0%B1%D0%B0_%E2%80%94_%D0%94%D1%83%D0%B3%D0%BB%D0%B0%D1%81%D0%B0)  . Отсюда нетрудно получить $E = Y / (L^{1 - a} * K ^a)$. Стоит заметить, что функция Кобба-Дугласа удовлетворяет всем аксиомам производственной функции, подробнее об этом написано в замечательной книжке D. HOOVER APPLIED INTERMEDIATE MACROECONOMICS."
      ]
    },
    {
      "cell_type": "code",
      "metadata": {
        "id": "XXue7xuhAiAn"
      },
      "source": [
        "  def findE(Y, K, a, L):\r\n",
        "      Y = Y * (10 ** 9)\r\n",
        "      K = (K * (10 ** 9)) ** (1 - (1 - a))\r\n",
        "      X = (Y / K) ** (1 / ( 1 - a) )\r\n",
        "      return X / L"
      ],
      "execution_count": null,
      "outputs": []
    },
    {
      "cell_type": "markdown",
      "metadata": {
        "id": "xOBuF6TgeDce"
      },
      "source": [
        "# Аналитическое решение\r\n",
        "\r\n",
        "Модель Солоу можно представить в виде Задачи Коши:\r\n",
        "\r\n",
        "\\begin{equation}\r\n",
        "k'(t) = sk(t)^α − (n + g + δ)k(t),\\;k(0) = k_0\r\n",
        "\\end{equation}\r\n",
        "\r\n",
        "Введем новую переменную:\r\n",
        "\\begin{equation}\r\n",
        "z(t) = k(t)^{1−α} \\\\\r\n",
        "z'(t) = (1 − α)k(t)^{-α}k'(t) \\\\\r\n",
        "k'(t) = \\frac{z'(t)k(t)^{α}}{1-α}\r\n",
        "\\end{equation}\r\n",
        "\r\n",
        "Подставим в наше уравнение, у нас получилось линейное неоднородное:\r\n",
        "\\begin{equation}\r\n",
        "z'(t) + (n + g + δ)(1 − α)z(t) = s(1 − α)\r\n",
        "\\end{equation}\r\n",
        "\r\n",
        "Решаем линейное однородное:\r\n",
        "\\begin{equation}\r\n",
        "z'(t) = -(n + g + δ)(1 − α)z(t) \\\\\r\n",
        "\\ln{z(t)} = -(n + g + δ)(1 − α)t + C \\\\\r\n",
        "z(t) = Ce^{-(n + g + δ)(1 − α)t}\r\n",
        "\\end{equation}\r\n",
        "\r\n",
        "Варьируем постоянную:\r\n",
        "\\begin{equation}\r\n",
        "C'(t) = s(1 − α)e^{(n + g + δ)(1 − α)t} \\\\\r\n",
        "C(t) = \\frac{s(1 − α)e^{(n + g + δ)(1 − α)t}}{(n + g + δ)(1 − α)} + A = \\frac{se^{(n + g + δ)(1 − α)t}}{n + g + δ} + A\\\\\r\n",
        "z(t) = \\frac{s}{n + g + δ} + Ae^{-(n + g + δ)(1 − α)t}\r\n",
        "\\end{equation}\r\n",
        "\r\n",
        "Решаем Задачу Коши:\r\n",
        "\\begin{equation}\r\n",
        "z(0) = k_0 ^ {1 - α} \\\\\r\n",
        "A = k_0 ^ {1 - α} - \\frac{s}{n + g + δ} \\\\\r\n",
        "\\end{equation}\r\n",
        "\r\n",
        "В итоге общее решение выглядит следующим образом:\r\n",
        "\\begin{equation}\r\n",
        "z(t) =  \\left (\\frac{s}{n + g + δ} \\right)(1 - e^{-(n + g + δ)(1 − α)t}) + k_0 ^ {1 - α}e^{-(n + g + δ)(1 − α)t} \\\\ \r\n",
        "k(t) = \\left [\\left (\\frac{s}{n + g + δ} \\right)(1 - e^{-(n + g + δ)(1 − α)t}) + k_0 ^ {1 - α}e^{-(n + g + δ)(1 − α)t} \\right ] ^ {\\frac{1}{1- α}}\r\n",
        "\\end{equation}"
      ]
    },
    {
      "cell_type": "markdown",
      "metadata": {
        "id": "Tlj5M2FZb_5i"
      },
      "source": [
        "\r\n",
        "\r\n",
        "---\r\n",
        "\r\n",
        "\r\n",
        "\r\n",
        "\r\n",
        "Давайте возьмем данные США за 2008, т.е посчитаем $k_0$ по данным 2008. \r\n",
        "\r\n",
        "$K$ = 46148.9845621239 миллиардов\r\n",
        "\r\n",
        "$Y$ = 15604.687 миллиардов\r\n",
        "\r\n",
        "$L$ = 154128 тысяч\r\n",
        "\r\n",
        "\r\n",
        "\r\n"
      ]
    },
    {
      "cell_type": "code",
      "metadata": {
        "id": "URv6dvoGW8ap"
      },
      "source": [
        "K = 46148.9845621239\n",
        "Y = 15604.687\n",
        "L = 154128.333333333 * (1000)\n",
        "alpha = 1/3\n",
        "E = findE(Y, K, alpha, L) \n",
        "k0 = K * (10 ** 9) / L / E\n",
        "n = 1 / 100\n",
        "delta = 4.2 / 100\n",
        "s = 16.7 / 100\n",
        "g = 2.8 / 100\n",
        "def k(t):\n",
        "    consts = n + g + delta\n",
        "    exp = math.e ** (-consts*(1-alpha) * t)\n",
        "    first = (s / consts) * ( 1 - exp)\n",
        "    second = (k0 ** (1 - alpha)) * math.e ** (-(n+g+delta)*(1-alpha)*t)\n",
        "    return  (first + second) ** (1 / (1-alpha))"
      ],
      "execution_count": null,
      "outputs": []
    },
    {
      "cell_type": "code",
      "metadata": {
        "id": "nNfhC0JFW8as"
      },
      "source": [
        "k(0)\n",
        "x = np.linspace(start=0, stop=100, num=1000)\n",
        "y = [k(t) for t in x]"
      ],
      "execution_count": null,
      "outputs": []
    },
    {
      "cell_type": "markdown",
      "metadata": {
        "id": "CzW3CwfXV6ry"
      },
      "source": [
        "Воспользовавшись аналитическим решением построим график функции $k(t)$"
      ]
    },
    {
      "cell_type": "markdown",
      "metadata": {
        "id": "xBW8bfWngd7U"
      },
      "source": [
        "#График 1.1"
      ]
    },
    {
      "cell_type": "code",
      "metadata": {
        "colab": {
          "base_uri": "https://localhost:8080/",
          "height": 282
        },
        "id": "8LEfy0jKW8ax",
        "outputId": "a6f71293-d4bf-4bad-c5b7-a6ab5c81cedf"
      },
      "source": [
        "plt.plot(x, y)"
      ],
      "execution_count": null,
      "outputs": [
        {
          "output_type": "execute_result",
          "data": {
            "text/plain": [
              "[<matplotlib.lines.Line2D at 0x7f0379262048>]"
            ]
          },
          "metadata": {
            "tags": []
          },
          "execution_count": 5
        },
        {
          "output_type": "display_data",
          "data": {
            "image/png": "[encoded data removed]",
            "text/plain": [
              "<Figure size 432x288 with 1 Axes>"
            ]
          },
          "metadata": {
            "tags": [],
            "needs_background": "light"
          }
        }
      ]
    },
    {
      "cell_type": "markdown",
      "metadata": {
        "id": "61X4LXgbeCfz"
      },
      "source": [
        "Заметим, что данная функция удовлетворяет модели Солоу, т.е capital per effective labor со временем уменьшается. Что удовлетворяет аксиомам, описанным в книжке Хувера."
      ]
    },
    {
      "cell_type": "markdown",
      "metadata": {
        "id": "bxeSJTsBXDsy"
      },
      "source": [
        "# График $(k_t = \\frac{K}{L \\cdot E})$ по данным из датасета"
      ]
    },
    {
      "cell_type": "code",
      "metadata": {
        "colab": {
          "base_uri": "https://localhost:8080/",
          "height": 237
        },
        "id": "RZF2gCSSXOkn",
        "outputId": "d8bd47db-63dc-4480-84bf-ffd6afb268e5"
      },
      "source": [
        "\n",
        "usa_data = pd.read_csv('https://raw.githubusercontent.com/mishenkoil/solow-swan-model/main/usa_stats.csv')\n",
        "usa_data.head()"
      ],
      "execution_count": null,
      "outputs": [
        {
          "output_type": "execute_result",
          "data": {
            "text/html": [
              "<div>\n",
              "<style scoped>\n",
              "    .dataframe tbody tr th:only-of-type {\n",
              "        vertical-align: middle;\n",
              "    }\n",
              "\n",
              "    .dataframe tbody tr th {\n",
              "        vertical-align: top;\n",
              "    }\n",
              "\n",
              "    .dataframe thead th {\n",
              "        text-align: right;\n",
              "    }\n",
              "</style>\n",
              "<table border=\"1\" class=\"dataframe\">\n",
              "  <thead>\n",
              "    <tr style=\"text-align: right;\">\n",
              "      <th></th>\n",
              "      <th>Quarterly Data</th>\n",
              "      <th>Quarter</th>\n",
              "      <th>BLS Labor Productivity Index (2009=100)</th>\n",
              "      <th>Labor Force (thousands)</th>\n",
              "      <th>Real GDP (billions 2012 constant dollars)</th>\n",
              "      <th>Real Fixed Capital (billions 2009 constant dollars)</th>\n",
              "    </tr>\n",
              "  </thead>\n",
              "  <tbody>\n",
              "    <tr>\n",
              "      <th>0</th>\n",
              "      <td>NaN</td>\n",
              "      <td>1948:1</td>\n",
              "      <td>22.2</td>\n",
              "      <td>60230</td>\n",
              "      <td>2086.0</td>\n",
              "      <td>4604.0</td>\n",
              "    </tr>\n",
              "    <tr>\n",
              "      <th>1</th>\n",
              "      <td>NaN</td>\n",
              "      <td>1948:2</td>\n",
              "      <td>22.7</td>\n",
              "      <td>60535</td>\n",
              "      <td>2120.5</td>\n",
              "      <td>4603.5</td>\n",
              "    </tr>\n",
              "    <tr>\n",
              "      <th>2</th>\n",
              "      <td>Annual data</td>\n",
              "      <td>1948:3</td>\n",
              "      <td>22.6</td>\n",
              "      <td>60934</td>\n",
              "      <td>2132.6</td>\n",
              "      <td>4603.5</td>\n",
              "    </tr>\n",
              "    <tr>\n",
              "      <th>3</th>\n",
              "      <td>starts in column A</td>\n",
              "      <td>1948:4</td>\n",
              "      <td>22.7</td>\n",
              "      <td>60839</td>\n",
              "      <td>2135.0</td>\n",
              "      <td>4603.5</td>\n",
              "    </tr>\n",
              "    <tr>\n",
              "      <th>4</th>\n",
              "      <td>NaN</td>\n",
              "      <td>1949:1</td>\n",
              "      <td>22.6</td>\n",
              "      <td>60967</td>\n",
              "      <td>2105.6</td>\n",
              "      <td>4543.8</td>\n",
              "    </tr>\n",
              "  </tbody>\n",
              "</table>\n",
              "</div>"
            ],
            "text/plain": [
              "       Quarterly Data  ... Real Fixed Capital (billions 2009 constant dollars)\n",
              "0                 NaN  ...                                             4604.0 \n",
              "1                 NaN  ...                                             4603.5 \n",
              "2         Annual data  ...                                             4603.5 \n",
              "3  starts in column A  ...                                             4603.5 \n",
              "4                 NaN  ...                                             4543.8 \n",
              "\n",
              "[5 rows x 6 columns]"
            ]
          },
          "metadata": {
            "tags": []
          },
          "execution_count": 41
        }
      ]
    },
    {
      "cell_type": "code",
      "metadata": {
        "colab": {
          "base_uri": "https://localhost:8080/",
          "height": 202
        },
        "id": "XfK7KGPugUDJ",
        "outputId": "8c0615da-2e23-485d-be75-60fce5a2c05e"
      },
      "source": [
        "usa_data['E'] = findE(usa_data['Real GDP (billions 2012 constant dollars)'], usa_data['Real Fixed Capital (billions 2009 constant dollars)'], 1/3, usa_data['Labor Force (thousands)'] * 1000) \n",
        "usa_data['k_t'] = usa_data['Real Fixed Capital (billions 2009 constant dollars)'] * (10 ** 9) / (usa_data['E'] * usa_data['Labor Force (thousands)'] * 1000)\n",
        "usa_data.drop(['Quarterly Data',\n",
        "               'BLS Labor Productivity Index (2009=100)', \n",
        "               'Real GDP (billions 2012 constant dollars)',\n",
        "               'Real Fixed Capital (billions 2009 constant dollars)',\n",
        "               'E',\n",
        "               'Labor Force (thousands)'], axis='columns', inplace=True)\n",
        "usa_data.head()"
      ],
      "execution_count": null,
      "outputs": [
        {
          "output_type": "execute_result",
          "data": {
            "text/html": [
              "<div>\n",
              "<style scoped>\n",
              "    .dataframe tbody tr th:only-of-type {\n",
              "        vertical-align: middle;\n",
              "    }\n",
              "\n",
              "    .dataframe tbody tr th {\n",
              "        vertical-align: top;\n",
              "    }\n",
              "\n",
              "    .dataframe thead th {\n",
              "        text-align: right;\n",
              "    }\n",
              "</style>\n",
              "<table border=\"1\" class=\"dataframe\">\n",
              "  <thead>\n",
              "    <tr style=\"text-align: right;\">\n",
              "      <th></th>\n",
              "      <th>Quarter</th>\n",
              "      <th>k_t</th>\n",
              "    </tr>\n",
              "  </thead>\n",
              "  <tbody>\n",
              "    <tr>\n",
              "      <th>0</th>\n",
              "      <td>1948:1</td>\n",
              "      <td>3.278925</td>\n",
              "    </tr>\n",
              "    <tr>\n",
              "      <th>1</th>\n",
              "      <td>1948:2</td>\n",
              "      <td>3.198710</td>\n",
              "    </tr>\n",
              "    <tr>\n",
              "      <th>2</th>\n",
              "      <td>1948:3</td>\n",
              "      <td>3.171525</td>\n",
              "    </tr>\n",
              "    <tr>\n",
              "      <th>3</th>\n",
              "      <td>1948:4</td>\n",
              "      <td>3.166179</td>\n",
              "    </tr>\n",
              "    <tr>\n",
              "      <th>4</th>\n",
              "      <td>1949:1</td>\n",
              "      <td>3.170042</td>\n",
              "    </tr>\n",
              "  </tbody>\n",
              "</table>\n",
              "</div>"
            ],
            "text/plain": [
              "  Quarter       k_t\n",
              "0  1948:1  3.278925\n",
              "1  1948:2  3.198710\n",
              "2  1948:3  3.171525\n",
              "3  1948:4  3.166179\n",
              "4  1949:1  3.170042"
            ]
          },
          "metadata": {
            "tags": []
          },
          "execution_count": 42
        }
      ]
    },
    {
      "cell_type": "markdown",
      "metadata": {
        "id": "6TJFqMYKglL0"
      },
      "source": [
        "#График 2.1"
      ]
    },
    {
      "cell_type": "code",
      "metadata": {
        "colab": {
          "base_uri": "https://localhost:8080/",
          "height": 279
        },
        "id": "wEMEMxSWkMqV",
        "outputId": "92f44d98-3120-4ea4-9348-1a7b677af279"
      },
      "source": [
        "usa_data.set_index(\"Quarter\", inplace=True)\n",
        "usa_data_2008 = usa_data.iloc[240:]\n",
        "usa_data_2008.plot()\n",
        "plt.show()"
      ],
      "execution_count": null,
      "outputs": [
        {
          "output_type": "display_data",
          "data": {
            "image/png": "[encoded data removed]",
            "text/plain": [
              "<Figure size 432x288 with 1 Axes>"
            ]
          },
          "metadata": {
            "tags": [],
            "needs_background": "light"
          }
        }
      ]
    },
    {
      "cell_type": "markdown",
      "metadata": {
        "id": "fIlfH2NNgTT7"
      },
      "source": [
        "Как мы видим аналитическое решение 1.1 мало имеет общего с графиком 2.1, построенном на основе dataset. Это объясняется тем, что модель Солоу не учитывает многие факторы, такие как политическая обстановка, взаимодействие с другими странами. Более того, она сильно упрощает многие параметры. Так же аналитическое решение рассчитано на короткий промежуток времени."
      ]
    },
    {
      "cell_type": "markdown",
      "metadata": {
        "id": "mRUS2jUTgpWY"
      },
      "source": [
        "#График 2.2"
      ]
    },
    {
      "cell_type": "code",
      "metadata": {
        "colab": {
          "base_uri": "https://localhost:8080/",
          "height": 297
        },
        "id": "omoDKSqdNSoJ",
        "outputId": "5a2d5558-1bad-46a2-ff46-ea3ec9d9bbcb"
      },
      "source": [
        "shorted_data = usa_data.iloc[243:252]\r\n",
        "shorted_data.plot()"
      ],
      "execution_count": null,
      "outputs": [
        {
          "output_type": "execute_result",
          "data": {
            "text/plain": [
              "<matplotlib.axes._subplots.AxesSubplot at 0x7f9b8134ff28>"
            ]
          },
          "metadata": {
            "tags": []
          },
          "execution_count": 44
        },
        {
          "output_type": "display_data",
          "data": {
            "image/png": "[encoded data removed]",
            "text/plain": [
              "<Figure size 432x288 with 1 Axes>"
            ]
          },
          "metadata": {
            "tags": [],
            "needs_background": "light"
          }
        }
      ]
    },
    {
      "cell_type": "markdown",
      "metadata": {
        "id": "Js7RKP_iiZ3D"
      },
      "source": [
        "Однако если взять промежуток с 4 квартала 2008 по 4 квартал 2010 года, то можно заметить корреляцию данных полученных аналитическим способом и с использованием данных из dataset. К сожалению, этих данных не достаточно, чтобы доказать правдоподобность модели."
      ]
    },
    {
      "cell_type": "markdown",
      "metadata": {
        "id": "ybUqaimWa5DS"
      },
      "source": [
        "# Вывод:\n",
        "Мы представили Модель Солоу в виде задачи Коши и решили ее (за точку отсчета был взят 2008г.), а затем провизуализировали данные, полученные из датасета. Если сравнить графики 1.1 и 2.2 на коротком временном промежутке, может показаться, что Модель Солоу вполне хорошо описывает реальные данные, но если взять более длинный промежуток, становится ясно, что это не так. Это объясняется тем, что модель Солоу не учитывает многие факторы, такие как политическая обстановка, взаимодействие с другими странами. Более того, она сильно упрощает многие параметры."
      ]
    }
  ]
}